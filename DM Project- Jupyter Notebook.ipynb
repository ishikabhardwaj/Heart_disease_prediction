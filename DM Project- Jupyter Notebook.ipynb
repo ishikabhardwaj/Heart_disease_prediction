{
 "cells": [
  {
   "cell_type": "markdown",
   "id": "c92f65dc",
   "metadata": {},
   "source": [
    "## Importing Required Libraries"
   ]
  },
  {
   "cell_type": "code",
   "execution_count": 1,
   "id": "e2d42e75",
   "metadata": {},
   "outputs": [],
   "source": [
    "import pandas as pd\n",
    "import numpy as np\n",
    "import matplotlib.pyplot as plt\n",
    "import seaborn as sns\n",
    "from sklearn.preprocessing import StandardScaler\n",
    "from sklearn.metrics import accuracy_score\n",
    "from sklearn.metrics import confusion_matrix\n",
    "from sklearn.metrics import f1_score\n",
    "from sklearn.model_selection import train_test_split\n",
    "import warnings\n",
    "warnings.filterwarnings('ignore')\n",
    "import sklearn.neighbors\n",
    "from sklearn.neighbors import KNeighborsClassifier"
   ]
  },
  {
   "cell_type": "markdown",
   "id": "1caf3de0",
   "metadata": {},
   "source": [
    "## Dataset"
   ]
  },
  {
   "cell_type": "code",
   "execution_count": 2,
   "id": "eca3a6e9",
   "metadata": {},
   "outputs": [],
   "source": [
    "df = pd.read_csv('Heart_Disease_Prediction.csv')"
   ]
  },
  {
   "cell_type": "code",
   "execution_count": 3,
   "id": "0a5f5d6e",
   "metadata": {},
   "outputs": [
    {
     "data": {
      "text/html": [
       "<div>\n",
       "<style scoped>\n",
       "    .dataframe tbody tr th:only-of-type {\n",
       "        vertical-align: middle;\n",
       "    }\n",
       "\n",
       "    .dataframe tbody tr th {\n",
       "        vertical-align: top;\n",
       "    }\n",
       "\n",
       "    .dataframe thead th {\n",
       "        text-align: right;\n",
       "    }\n",
       "</style>\n",
       "<table border=\"1\" class=\"dataframe\">\n",
       "  <thead>\n",
       "    <tr style=\"text-align: right;\">\n",
       "      <th></th>\n",
       "      <th>Age</th>\n",
       "      <th>Sex</th>\n",
       "      <th>Chest pain type</th>\n",
       "      <th>BP</th>\n",
       "      <th>Cholesterol</th>\n",
       "      <th>FBS over 120</th>\n",
       "      <th>EKG results</th>\n",
       "      <th>Max HR</th>\n",
       "      <th>Exercise angina</th>\n",
       "      <th>ST depression</th>\n",
       "      <th>Slope of ST</th>\n",
       "      <th>Number of vessels fluro</th>\n",
       "      <th>Thallium</th>\n",
       "      <th>Heart Disease</th>\n",
       "    </tr>\n",
       "  </thead>\n",
       "  <tbody>\n",
       "    <tr>\n",
       "      <th>0</th>\n",
       "      <td>70</td>\n",
       "      <td>1</td>\n",
       "      <td>4</td>\n",
       "      <td>130</td>\n",
       "      <td>322</td>\n",
       "      <td>0</td>\n",
       "      <td>2</td>\n",
       "      <td>109</td>\n",
       "      <td>0</td>\n",
       "      <td>2.4</td>\n",
       "      <td>2</td>\n",
       "      <td>3</td>\n",
       "      <td>3</td>\n",
       "      <td>Presence</td>\n",
       "    </tr>\n",
       "    <tr>\n",
       "      <th>1</th>\n",
       "      <td>67</td>\n",
       "      <td>0</td>\n",
       "      <td>3</td>\n",
       "      <td>115</td>\n",
       "      <td>564</td>\n",
       "      <td>0</td>\n",
       "      <td>2</td>\n",
       "      <td>160</td>\n",
       "      <td>0</td>\n",
       "      <td>1.6</td>\n",
       "      <td>2</td>\n",
       "      <td>0</td>\n",
       "      <td>7</td>\n",
       "      <td>Absence</td>\n",
       "    </tr>\n",
       "    <tr>\n",
       "      <th>2</th>\n",
       "      <td>57</td>\n",
       "      <td>1</td>\n",
       "      <td>2</td>\n",
       "      <td>124</td>\n",
       "      <td>261</td>\n",
       "      <td>0</td>\n",
       "      <td>0</td>\n",
       "      <td>141</td>\n",
       "      <td>0</td>\n",
       "      <td>0.3</td>\n",
       "      <td>1</td>\n",
       "      <td>0</td>\n",
       "      <td>7</td>\n",
       "      <td>Presence</td>\n",
       "    </tr>\n",
       "    <tr>\n",
       "      <th>3</th>\n",
       "      <td>64</td>\n",
       "      <td>1</td>\n",
       "      <td>4</td>\n",
       "      <td>128</td>\n",
       "      <td>263</td>\n",
       "      <td>0</td>\n",
       "      <td>0</td>\n",
       "      <td>105</td>\n",
       "      <td>1</td>\n",
       "      <td>0.2</td>\n",
       "      <td>2</td>\n",
       "      <td>1</td>\n",
       "      <td>7</td>\n",
       "      <td>Absence</td>\n",
       "    </tr>\n",
       "    <tr>\n",
       "      <th>4</th>\n",
       "      <td>74</td>\n",
       "      <td>0</td>\n",
       "      <td>2</td>\n",
       "      <td>120</td>\n",
       "      <td>269</td>\n",
       "      <td>0</td>\n",
       "      <td>2</td>\n",
       "      <td>121</td>\n",
       "      <td>1</td>\n",
       "      <td>0.2</td>\n",
       "      <td>1</td>\n",
       "      <td>1</td>\n",
       "      <td>3</td>\n",
       "      <td>Absence</td>\n",
       "    </tr>\n",
       "  </tbody>\n",
       "</table>\n",
       "</div>"
      ],
      "text/plain": [
       "   Age  Sex  Chest pain type   BP  Cholesterol  FBS over 120  EKG results  \\\n",
       "0   70    1                4  130          322             0            2   \n",
       "1   67    0                3  115          564             0            2   \n",
       "2   57    1                2  124          261             0            0   \n",
       "3   64    1                4  128          263             0            0   \n",
       "4   74    0                2  120          269             0            2   \n",
       "\n",
       "   Max HR  Exercise angina  ST depression  Slope of ST  \\\n",
       "0     109                0            2.4            2   \n",
       "1     160                0            1.6            2   \n",
       "2     141                0            0.3            1   \n",
       "3     105                1            0.2            2   \n",
       "4     121                1            0.2            1   \n",
       "\n",
       "   Number of vessels fluro  Thallium Heart Disease  \n",
       "0                        3         3      Presence  \n",
       "1                        0         7       Absence  \n",
       "2                        0         7      Presence  \n",
       "3                        1         7       Absence  \n",
       "4                        1         3       Absence  "
      ]
     },
     "execution_count": 3,
     "metadata": {},
     "output_type": "execute_result"
    }
   ],
   "source": [
    "df.head()"
   ]
  },
  {
   "cell_type": "markdown",
   "id": "709ba511",
   "metadata": {},
   "source": [
    "## Data contains:\n",
    "\n",
    "* Age - age in years\n",
    "* Sex - (1 = male; 0 = female)\n",
    "* Chest pain type - chest pain type\n",
    "* BP - resting blood pressure (in mm Hg on admission to the hospital)\n",
    "* Cholestrol - serum cholestoral in mg/dl\n",
    "* FBS - (fasting blood sugar > 120 mg/dl) (1 = true; 0 = false)\n",
    "* EKG results - resting electrocardiographic results\n",
    "* Max HR - maximum heart rate achieved\n",
    "* Exercise angina - exercise induced angina (1 = yes; 0 = no)\n",
    "* ST depression - ST depression induced by exercise relative to rest\n",
    "* Slope of ST - the slope of the peak exercise ST segment\n",
    "* Number of vessels fluro - number of major vessels (0-3) colored by flourosopy\n",
    "* Thallium - 3 = normal; 6 = fixed defect; 7 = reversable defect\n",
    "* Heart Disease - have disease or not (1=yes, 0=no)"
   ]
  },
  {
   "cell_type": "markdown",
   "id": "53f68401",
   "metadata": {},
   "source": [
    "## Data Exploration"
   ]
  },
  {
   "cell_type": "code",
   "execution_count": 4,
   "id": "78f6e690",
   "metadata": {},
   "outputs": [
    {
     "name": "stdout",
     "output_type": "stream",
     "text": [
      "This dataset has\n",
      "Rows: 270\n",
      "Columns: 14\n"
     ]
    }
   ],
   "source": [
    "print(\"This dataset has\\nRows: {}\\nColumns: {}\".format(df.shape[0],df.shape[1]))"
   ]
  },
  {
   "cell_type": "code",
   "execution_count": 5,
   "id": "c3452978",
   "metadata": {},
   "outputs": [
    {
     "data": {
      "text/plain": [
       "Index(['Age', 'Sex', 'Chest pain type', 'BP', 'Cholesterol', 'FBS over 120',\n",
       "       'EKG results', 'Max HR', 'Exercise angina', 'ST depression',\n",
       "       'Slope of ST', 'Number of vessels fluro', 'Thallium', 'Heart Disease'],\n",
       "      dtype='object')"
      ]
     },
     "execution_count": 5,
     "metadata": {},
     "output_type": "execute_result"
    }
   ],
   "source": [
    "df.columns"
   ]
  },
  {
   "cell_type": "code",
   "execution_count": 6,
   "id": "129ea66d",
   "metadata": {},
   "outputs": [
    {
     "name": "stdout",
     "output_type": "stream",
     "text": [
      "<class 'pandas.core.frame.DataFrame'>\n",
      "RangeIndex: 270 entries, 0 to 269\n",
      "Data columns (total 14 columns):\n",
      " #   Column                   Non-Null Count  Dtype  \n",
      "---  ------                   --------------  -----  \n",
      " 0   Age                      270 non-null    int64  \n",
      " 1   Sex                      270 non-null    int64  \n",
      " 2   Chest pain type          270 non-null    int64  \n",
      " 3   BP                       270 non-null    int64  \n",
      " 4   Cholesterol              270 non-null    int64  \n",
      " 5   FBS over 120             270 non-null    int64  \n",
      " 6   EKG results              270 non-null    int64  \n",
      " 7   Max HR                   270 non-null    int64  \n",
      " 8   Exercise angina          270 non-null    int64  \n",
      " 9   ST depression            270 non-null    float64\n",
      " 10  Slope of ST              270 non-null    int64  \n",
      " 11  Number of vessels fluro  270 non-null    int64  \n",
      " 12  Thallium                 270 non-null    int64  \n",
      " 13  Heart Disease            270 non-null    object \n",
      "dtypes: float64(1), int64(12), object(1)\n",
      "memory usage: 29.7+ KB\n"
     ]
    }
   ],
   "source": [
    "df.info()"
   ]
  },
  {
   "cell_type": "code",
   "execution_count": 7,
   "id": "ec84fb93",
   "metadata": {},
   "outputs": [
    {
     "data": {
      "text/html": [
       "<div>\n",
       "<style scoped>\n",
       "    .dataframe tbody tr th:only-of-type {\n",
       "        vertical-align: middle;\n",
       "    }\n",
       "\n",
       "    .dataframe tbody tr th {\n",
       "        vertical-align: top;\n",
       "    }\n",
       "\n",
       "    .dataframe thead th {\n",
       "        text-align: right;\n",
       "    }\n",
       "</style>\n",
       "<table border=\"1\" class=\"dataframe\">\n",
       "  <thead>\n",
       "    <tr style=\"text-align: right;\">\n",
       "      <th></th>\n",
       "      <th>Age</th>\n",
       "      <th>Sex</th>\n",
       "      <th>Chest pain type</th>\n",
       "      <th>BP</th>\n",
       "      <th>Cholesterol</th>\n",
       "      <th>FBS over 120</th>\n",
       "      <th>EKG results</th>\n",
       "      <th>Max HR</th>\n",
       "      <th>Exercise angina</th>\n",
       "      <th>ST depression</th>\n",
       "      <th>Slope of ST</th>\n",
       "      <th>Number of vessels fluro</th>\n",
       "      <th>Thallium</th>\n",
       "    </tr>\n",
       "  </thead>\n",
       "  <tbody>\n",
       "    <tr>\n",
       "      <th>count</th>\n",
       "      <td>270.000000</td>\n",
       "      <td>270.000000</td>\n",
       "      <td>270.000000</td>\n",
       "      <td>270.000000</td>\n",
       "      <td>270.000000</td>\n",
       "      <td>270.000000</td>\n",
       "      <td>270.000000</td>\n",
       "      <td>270.000000</td>\n",
       "      <td>270.000000</td>\n",
       "      <td>270.00000</td>\n",
       "      <td>270.000000</td>\n",
       "      <td>270.000000</td>\n",
       "      <td>270.000000</td>\n",
       "    </tr>\n",
       "    <tr>\n",
       "      <th>mean</th>\n",
       "      <td>54.433333</td>\n",
       "      <td>0.677778</td>\n",
       "      <td>3.174074</td>\n",
       "      <td>131.344444</td>\n",
       "      <td>249.659259</td>\n",
       "      <td>0.148148</td>\n",
       "      <td>1.022222</td>\n",
       "      <td>149.677778</td>\n",
       "      <td>0.329630</td>\n",
       "      <td>1.05000</td>\n",
       "      <td>1.585185</td>\n",
       "      <td>0.670370</td>\n",
       "      <td>4.696296</td>\n",
       "    </tr>\n",
       "    <tr>\n",
       "      <th>std</th>\n",
       "      <td>9.109067</td>\n",
       "      <td>0.468195</td>\n",
       "      <td>0.950090</td>\n",
       "      <td>17.861608</td>\n",
       "      <td>51.686237</td>\n",
       "      <td>0.355906</td>\n",
       "      <td>0.997891</td>\n",
       "      <td>23.165717</td>\n",
       "      <td>0.470952</td>\n",
       "      <td>1.14521</td>\n",
       "      <td>0.614390</td>\n",
       "      <td>0.943896</td>\n",
       "      <td>1.940659</td>\n",
       "    </tr>\n",
       "    <tr>\n",
       "      <th>min</th>\n",
       "      <td>29.000000</td>\n",
       "      <td>0.000000</td>\n",
       "      <td>1.000000</td>\n",
       "      <td>94.000000</td>\n",
       "      <td>126.000000</td>\n",
       "      <td>0.000000</td>\n",
       "      <td>0.000000</td>\n",
       "      <td>71.000000</td>\n",
       "      <td>0.000000</td>\n",
       "      <td>0.00000</td>\n",
       "      <td>1.000000</td>\n",
       "      <td>0.000000</td>\n",
       "      <td>3.000000</td>\n",
       "    </tr>\n",
       "    <tr>\n",
       "      <th>25%</th>\n",
       "      <td>48.000000</td>\n",
       "      <td>0.000000</td>\n",
       "      <td>3.000000</td>\n",
       "      <td>120.000000</td>\n",
       "      <td>213.000000</td>\n",
       "      <td>0.000000</td>\n",
       "      <td>0.000000</td>\n",
       "      <td>133.000000</td>\n",
       "      <td>0.000000</td>\n",
       "      <td>0.00000</td>\n",
       "      <td>1.000000</td>\n",
       "      <td>0.000000</td>\n",
       "      <td>3.000000</td>\n",
       "    </tr>\n",
       "    <tr>\n",
       "      <th>50%</th>\n",
       "      <td>55.000000</td>\n",
       "      <td>1.000000</td>\n",
       "      <td>3.000000</td>\n",
       "      <td>130.000000</td>\n",
       "      <td>245.000000</td>\n",
       "      <td>0.000000</td>\n",
       "      <td>2.000000</td>\n",
       "      <td>153.500000</td>\n",
       "      <td>0.000000</td>\n",
       "      <td>0.80000</td>\n",
       "      <td>2.000000</td>\n",
       "      <td>0.000000</td>\n",
       "      <td>3.000000</td>\n",
       "    </tr>\n",
       "    <tr>\n",
       "      <th>75%</th>\n",
       "      <td>61.000000</td>\n",
       "      <td>1.000000</td>\n",
       "      <td>4.000000</td>\n",
       "      <td>140.000000</td>\n",
       "      <td>280.000000</td>\n",
       "      <td>0.000000</td>\n",
       "      <td>2.000000</td>\n",
       "      <td>166.000000</td>\n",
       "      <td>1.000000</td>\n",
       "      <td>1.60000</td>\n",
       "      <td>2.000000</td>\n",
       "      <td>1.000000</td>\n",
       "      <td>7.000000</td>\n",
       "    </tr>\n",
       "    <tr>\n",
       "      <th>max</th>\n",
       "      <td>77.000000</td>\n",
       "      <td>1.000000</td>\n",
       "      <td>4.000000</td>\n",
       "      <td>200.000000</td>\n",
       "      <td>564.000000</td>\n",
       "      <td>1.000000</td>\n",
       "      <td>2.000000</td>\n",
       "      <td>202.000000</td>\n",
       "      <td>1.000000</td>\n",
       "      <td>6.20000</td>\n",
       "      <td>3.000000</td>\n",
       "      <td>3.000000</td>\n",
       "      <td>7.000000</td>\n",
       "    </tr>\n",
       "  </tbody>\n",
       "</table>\n",
       "</div>"
      ],
      "text/plain": [
       "              Age         Sex  Chest pain type          BP  Cholesterol  \\\n",
       "count  270.000000  270.000000       270.000000  270.000000   270.000000   \n",
       "mean    54.433333    0.677778         3.174074  131.344444   249.659259   \n",
       "std      9.109067    0.468195         0.950090   17.861608    51.686237   \n",
       "min     29.000000    0.000000         1.000000   94.000000   126.000000   \n",
       "25%     48.000000    0.000000         3.000000  120.000000   213.000000   \n",
       "50%     55.000000    1.000000         3.000000  130.000000   245.000000   \n",
       "75%     61.000000    1.000000         4.000000  140.000000   280.000000   \n",
       "max     77.000000    1.000000         4.000000  200.000000   564.000000   \n",
       "\n",
       "       FBS over 120  EKG results      Max HR  Exercise angina  ST depression  \\\n",
       "count    270.000000   270.000000  270.000000       270.000000      270.00000   \n",
       "mean       0.148148     1.022222  149.677778         0.329630        1.05000   \n",
       "std        0.355906     0.997891   23.165717         0.470952        1.14521   \n",
       "min        0.000000     0.000000   71.000000         0.000000        0.00000   \n",
       "25%        0.000000     0.000000  133.000000         0.000000        0.00000   \n",
       "50%        0.000000     2.000000  153.500000         0.000000        0.80000   \n",
       "75%        0.000000     2.000000  166.000000         1.000000        1.60000   \n",
       "max        1.000000     2.000000  202.000000         1.000000        6.20000   \n",
       "\n",
       "       Slope of ST  Number of vessels fluro    Thallium  \n",
       "count   270.000000               270.000000  270.000000  \n",
       "mean      1.585185                 0.670370    4.696296  \n",
       "std       0.614390                 0.943896    1.940659  \n",
       "min       1.000000                 0.000000    3.000000  \n",
       "25%       1.000000                 0.000000    3.000000  \n",
       "50%       2.000000                 0.000000    3.000000  \n",
       "75%       2.000000                 1.000000    7.000000  \n",
       "max       3.000000                 3.000000    7.000000  "
      ]
     },
     "execution_count": 7,
     "metadata": {},
     "output_type": "execute_result"
    }
   ],
   "source": [
    "df.describe()"
   ]
  },
  {
   "cell_type": "code",
   "execution_count": 8,
   "id": "51012bbd",
   "metadata": {},
   "outputs": [
    {
     "data": {
      "text/html": [
       "<div>\n",
       "<style scoped>\n",
       "    .dataframe tbody tr th:only-of-type {\n",
       "        vertical-align: middle;\n",
       "    }\n",
       "\n",
       "    .dataframe tbody tr th {\n",
       "        vertical-align: top;\n",
       "    }\n",
       "\n",
       "    .dataframe thead th {\n",
       "        text-align: right;\n",
       "    }\n",
       "</style>\n",
       "<table border=\"1\" class=\"dataframe\">\n",
       "  <thead>\n",
       "    <tr style=\"text-align: right;\">\n",
       "      <th></th>\n",
       "      <th>Age</th>\n",
       "      <th>Sex</th>\n",
       "      <th>Chest pain type</th>\n",
       "      <th>BP</th>\n",
       "      <th>Cholesterol</th>\n",
       "      <th>FBS over 120</th>\n",
       "      <th>EKG results</th>\n",
       "      <th>Max HR</th>\n",
       "      <th>Exercise angina</th>\n",
       "      <th>ST depression</th>\n",
       "      <th>Slope of ST</th>\n",
       "      <th>Number of vessels fluro</th>\n",
       "      <th>Thallium</th>\n",
       "      <th>Heart Disease</th>\n",
       "    </tr>\n",
       "  </thead>\n",
       "  <tbody>\n",
       "    <tr>\n",
       "      <th>0</th>\n",
       "      <td>False</td>\n",
       "      <td>False</td>\n",
       "      <td>False</td>\n",
       "      <td>False</td>\n",
       "      <td>False</td>\n",
       "      <td>False</td>\n",
       "      <td>False</td>\n",
       "      <td>False</td>\n",
       "      <td>False</td>\n",
       "      <td>False</td>\n",
       "      <td>False</td>\n",
       "      <td>False</td>\n",
       "      <td>False</td>\n",
       "      <td>False</td>\n",
       "    </tr>\n",
       "    <tr>\n",
       "      <th>1</th>\n",
       "      <td>False</td>\n",
       "      <td>False</td>\n",
       "      <td>False</td>\n",
       "      <td>False</td>\n",
       "      <td>False</td>\n",
       "      <td>False</td>\n",
       "      <td>False</td>\n",
       "      <td>False</td>\n",
       "      <td>False</td>\n",
       "      <td>False</td>\n",
       "      <td>False</td>\n",
       "      <td>False</td>\n",
       "      <td>False</td>\n",
       "      <td>False</td>\n",
       "    </tr>\n",
       "    <tr>\n",
       "      <th>2</th>\n",
       "      <td>False</td>\n",
       "      <td>False</td>\n",
       "      <td>False</td>\n",
       "      <td>False</td>\n",
       "      <td>False</td>\n",
       "      <td>False</td>\n",
       "      <td>False</td>\n",
       "      <td>False</td>\n",
       "      <td>False</td>\n",
       "      <td>False</td>\n",
       "      <td>False</td>\n",
       "      <td>False</td>\n",
       "      <td>False</td>\n",
       "      <td>False</td>\n",
       "    </tr>\n",
       "    <tr>\n",
       "      <th>3</th>\n",
       "      <td>False</td>\n",
       "      <td>False</td>\n",
       "      <td>False</td>\n",
       "      <td>False</td>\n",
       "      <td>False</td>\n",
       "      <td>False</td>\n",
       "      <td>False</td>\n",
       "      <td>False</td>\n",
       "      <td>False</td>\n",
       "      <td>False</td>\n",
       "      <td>False</td>\n",
       "      <td>False</td>\n",
       "      <td>False</td>\n",
       "      <td>False</td>\n",
       "    </tr>\n",
       "    <tr>\n",
       "      <th>4</th>\n",
       "      <td>False</td>\n",
       "      <td>False</td>\n",
       "      <td>False</td>\n",
       "      <td>False</td>\n",
       "      <td>False</td>\n",
       "      <td>False</td>\n",
       "      <td>False</td>\n",
       "      <td>False</td>\n",
       "      <td>False</td>\n",
       "      <td>False</td>\n",
       "      <td>False</td>\n",
       "      <td>False</td>\n",
       "      <td>False</td>\n",
       "      <td>False</td>\n",
       "    </tr>\n",
       "    <tr>\n",
       "      <th>...</th>\n",
       "      <td>...</td>\n",
       "      <td>...</td>\n",
       "      <td>...</td>\n",
       "      <td>...</td>\n",
       "      <td>...</td>\n",
       "      <td>...</td>\n",
       "      <td>...</td>\n",
       "      <td>...</td>\n",
       "      <td>...</td>\n",
       "      <td>...</td>\n",
       "      <td>...</td>\n",
       "      <td>...</td>\n",
       "      <td>...</td>\n",
       "      <td>...</td>\n",
       "    </tr>\n",
       "    <tr>\n",
       "      <th>265</th>\n",
       "      <td>False</td>\n",
       "      <td>False</td>\n",
       "      <td>False</td>\n",
       "      <td>False</td>\n",
       "      <td>False</td>\n",
       "      <td>False</td>\n",
       "      <td>False</td>\n",
       "      <td>False</td>\n",
       "      <td>False</td>\n",
       "      <td>False</td>\n",
       "      <td>False</td>\n",
       "      <td>False</td>\n",
       "      <td>False</td>\n",
       "      <td>False</td>\n",
       "    </tr>\n",
       "    <tr>\n",
       "      <th>266</th>\n",
       "      <td>False</td>\n",
       "      <td>False</td>\n",
       "      <td>False</td>\n",
       "      <td>False</td>\n",
       "      <td>False</td>\n",
       "      <td>False</td>\n",
       "      <td>False</td>\n",
       "      <td>False</td>\n",
       "      <td>False</td>\n",
       "      <td>False</td>\n",
       "      <td>False</td>\n",
       "      <td>False</td>\n",
       "      <td>False</td>\n",
       "      <td>False</td>\n",
       "    </tr>\n",
       "    <tr>\n",
       "      <th>267</th>\n",
       "      <td>False</td>\n",
       "      <td>False</td>\n",
       "      <td>False</td>\n",
       "      <td>False</td>\n",
       "      <td>False</td>\n",
       "      <td>False</td>\n",
       "      <td>False</td>\n",
       "      <td>False</td>\n",
       "      <td>False</td>\n",
       "      <td>False</td>\n",
       "      <td>False</td>\n",
       "      <td>False</td>\n",
       "      <td>False</td>\n",
       "      <td>False</td>\n",
       "    </tr>\n",
       "    <tr>\n",
       "      <th>268</th>\n",
       "      <td>False</td>\n",
       "      <td>False</td>\n",
       "      <td>False</td>\n",
       "      <td>False</td>\n",
       "      <td>False</td>\n",
       "      <td>False</td>\n",
       "      <td>False</td>\n",
       "      <td>False</td>\n",
       "      <td>False</td>\n",
       "      <td>False</td>\n",
       "      <td>False</td>\n",
       "      <td>False</td>\n",
       "      <td>False</td>\n",
       "      <td>False</td>\n",
       "    </tr>\n",
       "    <tr>\n",
       "      <th>269</th>\n",
       "      <td>False</td>\n",
       "      <td>False</td>\n",
       "      <td>False</td>\n",
       "      <td>False</td>\n",
       "      <td>False</td>\n",
       "      <td>False</td>\n",
       "      <td>False</td>\n",
       "      <td>False</td>\n",
       "      <td>False</td>\n",
       "      <td>False</td>\n",
       "      <td>False</td>\n",
       "      <td>False</td>\n",
       "      <td>False</td>\n",
       "      <td>False</td>\n",
       "    </tr>\n",
       "  </tbody>\n",
       "</table>\n",
       "<p>270 rows × 14 columns</p>\n",
       "</div>"
      ],
      "text/plain": [
       "       Age    Sex  Chest pain type     BP  Cholesterol  FBS over 120  \\\n",
       "0    False  False            False  False        False         False   \n",
       "1    False  False            False  False        False         False   \n",
       "2    False  False            False  False        False         False   \n",
       "3    False  False            False  False        False         False   \n",
       "4    False  False            False  False        False         False   \n",
       "..     ...    ...              ...    ...          ...           ...   \n",
       "265  False  False            False  False        False         False   \n",
       "266  False  False            False  False        False         False   \n",
       "267  False  False            False  False        False         False   \n",
       "268  False  False            False  False        False         False   \n",
       "269  False  False            False  False        False         False   \n",
       "\n",
       "     EKG results  Max HR  Exercise angina  ST depression  Slope of ST  \\\n",
       "0          False   False            False          False        False   \n",
       "1          False   False            False          False        False   \n",
       "2          False   False            False          False        False   \n",
       "3          False   False            False          False        False   \n",
       "4          False   False            False          False        False   \n",
       "..           ...     ...              ...            ...          ...   \n",
       "265        False   False            False          False        False   \n",
       "266        False   False            False          False        False   \n",
       "267        False   False            False          False        False   \n",
       "268        False   False            False          False        False   \n",
       "269        False   False            False          False        False   \n",
       "\n",
       "     Number of vessels fluro  Thallium  Heart Disease  \n",
       "0                      False     False          False  \n",
       "1                      False     False          False  \n",
       "2                      False     False          False  \n",
       "3                      False     False          False  \n",
       "4                      False     False          False  \n",
       "..                       ...       ...            ...  \n",
       "265                    False     False          False  \n",
       "266                    False     False          False  \n",
       "267                    False     False          False  \n",
       "268                    False     False          False  \n",
       "269                    False     False          False  \n",
       "\n",
       "[270 rows x 14 columns]"
      ]
     },
     "execution_count": 8,
     "metadata": {},
     "output_type": "execute_result"
    }
   ],
   "source": [
    "df.isnull()"
   ]
  },
  {
   "cell_type": "code",
   "execution_count": 9,
   "id": "77f2d01a",
   "metadata": {},
   "outputs": [
    {
     "name": "stdout",
     "output_type": "stream",
     "text": [
      "Age                        0\n",
      "Sex                        0\n",
      "Chest pain type            0\n",
      "BP                         0\n",
      "Cholesterol                0\n",
      "FBS over 120               0\n",
      "EKG results                0\n",
      "Max HR                     0\n",
      "Exercise angina            0\n",
      "ST depression              0\n",
      "Slope of ST                0\n",
      "Number of vessels fluro    0\n",
      "Thallium                   0\n",
      "Heart Disease              0\n",
      "dtype: int64\n",
      "------------------------\n",
      "Total             0\n"
     ]
    }
   ],
   "source": [
    "print(df.isnull().sum())\n",
    "print(\"------------------------\")\n",
    "print(\"Total             {}\".format(df.isnull().sum().sum()))"
   ]
  },
  {
   "cell_type": "code",
   "execution_count": 10,
   "id": "ab2cf5b2",
   "metadata": {},
   "outputs": [
    {
     "data": {
      "text/plain": [
       "0"
      ]
     },
     "execution_count": 10,
     "metadata": {},
     "output_type": "execute_result"
    }
   ],
   "source": [
    "#checking if dataset has any duplicate rows\n",
    "df.duplicated().sum()"
   ]
  },
  {
   "cell_type": "code",
   "execution_count": 11,
   "id": "dc942d02",
   "metadata": {},
   "outputs": [
    {
     "data": {
      "text/html": [
       "<div>\n",
       "<style scoped>\n",
       "    .dataframe tbody tr th:only-of-type {\n",
       "        vertical-align: middle;\n",
       "    }\n",
       "\n",
       "    .dataframe tbody tr th {\n",
       "        vertical-align: top;\n",
       "    }\n",
       "\n",
       "    .dataframe thead th {\n",
       "        text-align: right;\n",
       "    }\n",
       "</style>\n",
       "<table border=\"1\" class=\"dataframe\">\n",
       "  <thead>\n",
       "    <tr style=\"text-align: right;\">\n",
       "      <th></th>\n",
       "      <th>Age</th>\n",
       "      <th>Sex</th>\n",
       "      <th>Chest pain type</th>\n",
       "      <th>BP</th>\n",
       "      <th>Cholesterol</th>\n",
       "      <th>FBS over 120</th>\n",
       "      <th>EKG results</th>\n",
       "      <th>Max HR</th>\n",
       "      <th>Exercise angina</th>\n",
       "      <th>ST depression</th>\n",
       "      <th>Slope of ST</th>\n",
       "      <th>Number of vessels fluro</th>\n",
       "      <th>Thallium</th>\n",
       "    </tr>\n",
       "  </thead>\n",
       "  <tbody>\n",
       "    <tr>\n",
       "      <th>Age</th>\n",
       "      <td>1.000000</td>\n",
       "      <td>-0.094401</td>\n",
       "      <td>0.096920</td>\n",
       "      <td>0.273053</td>\n",
       "      <td>0.220056</td>\n",
       "      <td>0.123458</td>\n",
       "      <td>0.128171</td>\n",
       "      <td>-0.402215</td>\n",
       "      <td>0.098297</td>\n",
       "      <td>0.194234</td>\n",
       "      <td>0.159774</td>\n",
       "      <td>0.356081</td>\n",
       "      <td>0.106100</td>\n",
       "    </tr>\n",
       "    <tr>\n",
       "      <th>Sex</th>\n",
       "      <td>-0.094401</td>\n",
       "      <td>1.000000</td>\n",
       "      <td>0.034636</td>\n",
       "      <td>-0.062693</td>\n",
       "      <td>-0.201647</td>\n",
       "      <td>0.042140</td>\n",
       "      <td>0.039253</td>\n",
       "      <td>-0.076101</td>\n",
       "      <td>0.180022</td>\n",
       "      <td>0.097412</td>\n",
       "      <td>0.050545</td>\n",
       "      <td>0.086830</td>\n",
       "      <td>0.391046</td>\n",
       "    </tr>\n",
       "    <tr>\n",
       "      <th>Chest pain type</th>\n",
       "      <td>0.096920</td>\n",
       "      <td>0.034636</td>\n",
       "      <td>1.000000</td>\n",
       "      <td>-0.043196</td>\n",
       "      <td>0.090465</td>\n",
       "      <td>-0.098537</td>\n",
       "      <td>0.074325</td>\n",
       "      <td>-0.317682</td>\n",
       "      <td>0.353160</td>\n",
       "      <td>0.167244</td>\n",
       "      <td>0.136900</td>\n",
       "      <td>0.225890</td>\n",
       "      <td>0.262659</td>\n",
       "    </tr>\n",
       "    <tr>\n",
       "      <th>BP</th>\n",
       "      <td>0.273053</td>\n",
       "      <td>-0.062693</td>\n",
       "      <td>-0.043196</td>\n",
       "      <td>1.000000</td>\n",
       "      <td>0.173019</td>\n",
       "      <td>0.155681</td>\n",
       "      <td>0.116157</td>\n",
       "      <td>-0.039136</td>\n",
       "      <td>0.082793</td>\n",
       "      <td>0.222800</td>\n",
       "      <td>0.142472</td>\n",
       "      <td>0.085697</td>\n",
       "      <td>0.132045</td>\n",
       "    </tr>\n",
       "    <tr>\n",
       "      <th>Cholesterol</th>\n",
       "      <td>0.220056</td>\n",
       "      <td>-0.201647</td>\n",
       "      <td>0.090465</td>\n",
       "      <td>0.173019</td>\n",
       "      <td>1.000000</td>\n",
       "      <td>0.025186</td>\n",
       "      <td>0.167652</td>\n",
       "      <td>-0.018739</td>\n",
       "      <td>0.078243</td>\n",
       "      <td>0.027709</td>\n",
       "      <td>-0.005755</td>\n",
       "      <td>0.126541</td>\n",
       "      <td>0.028836</td>\n",
       "    </tr>\n",
       "    <tr>\n",
       "      <th>FBS over 120</th>\n",
       "      <td>0.123458</td>\n",
       "      <td>0.042140</td>\n",
       "      <td>-0.098537</td>\n",
       "      <td>0.155681</td>\n",
       "      <td>0.025186</td>\n",
       "      <td>1.000000</td>\n",
       "      <td>0.053499</td>\n",
       "      <td>0.022494</td>\n",
       "      <td>-0.004107</td>\n",
       "      <td>-0.025538</td>\n",
       "      <td>0.044076</td>\n",
       "      <td>0.123774</td>\n",
       "      <td>0.049237</td>\n",
       "    </tr>\n",
       "    <tr>\n",
       "      <th>EKG results</th>\n",
       "      <td>0.128171</td>\n",
       "      <td>0.039253</td>\n",
       "      <td>0.074325</td>\n",
       "      <td>0.116157</td>\n",
       "      <td>0.167652</td>\n",
       "      <td>0.053499</td>\n",
       "      <td>1.000000</td>\n",
       "      <td>-0.074628</td>\n",
       "      <td>0.095098</td>\n",
       "      <td>0.120034</td>\n",
       "      <td>0.160614</td>\n",
       "      <td>0.114368</td>\n",
       "      <td>0.007337</td>\n",
       "    </tr>\n",
       "    <tr>\n",
       "      <th>Max HR</th>\n",
       "      <td>-0.402215</td>\n",
       "      <td>-0.076101</td>\n",
       "      <td>-0.317682</td>\n",
       "      <td>-0.039136</td>\n",
       "      <td>-0.018739</td>\n",
       "      <td>0.022494</td>\n",
       "      <td>-0.074628</td>\n",
       "      <td>1.000000</td>\n",
       "      <td>-0.380719</td>\n",
       "      <td>-0.349045</td>\n",
       "      <td>-0.386847</td>\n",
       "      <td>-0.265333</td>\n",
       "      <td>-0.253397</td>\n",
       "    </tr>\n",
       "    <tr>\n",
       "      <th>Exercise angina</th>\n",
       "      <td>0.098297</td>\n",
       "      <td>0.180022</td>\n",
       "      <td>0.353160</td>\n",
       "      <td>0.082793</td>\n",
       "      <td>0.078243</td>\n",
       "      <td>-0.004107</td>\n",
       "      <td>0.095098</td>\n",
       "      <td>-0.380719</td>\n",
       "      <td>1.000000</td>\n",
       "      <td>0.274672</td>\n",
       "      <td>0.255908</td>\n",
       "      <td>0.153347</td>\n",
       "      <td>0.321449</td>\n",
       "    </tr>\n",
       "    <tr>\n",
       "      <th>ST depression</th>\n",
       "      <td>0.194234</td>\n",
       "      <td>0.097412</td>\n",
       "      <td>0.167244</td>\n",
       "      <td>0.222800</td>\n",
       "      <td>0.027709</td>\n",
       "      <td>-0.025538</td>\n",
       "      <td>0.120034</td>\n",
       "      <td>-0.349045</td>\n",
       "      <td>0.274672</td>\n",
       "      <td>1.000000</td>\n",
       "      <td>0.609712</td>\n",
       "      <td>0.255005</td>\n",
       "      <td>0.324333</td>\n",
       "    </tr>\n",
       "    <tr>\n",
       "      <th>Slope of ST</th>\n",
       "      <td>0.159774</td>\n",
       "      <td>0.050545</td>\n",
       "      <td>0.136900</td>\n",
       "      <td>0.142472</td>\n",
       "      <td>-0.005755</td>\n",
       "      <td>0.044076</td>\n",
       "      <td>0.160614</td>\n",
       "      <td>-0.386847</td>\n",
       "      <td>0.255908</td>\n",
       "      <td>0.609712</td>\n",
       "      <td>1.000000</td>\n",
       "      <td>0.109498</td>\n",
       "      <td>0.283678</td>\n",
       "    </tr>\n",
       "    <tr>\n",
       "      <th>Number of vessels fluro</th>\n",
       "      <td>0.356081</td>\n",
       "      <td>0.086830</td>\n",
       "      <td>0.225890</td>\n",
       "      <td>0.085697</td>\n",
       "      <td>0.126541</td>\n",
       "      <td>0.123774</td>\n",
       "      <td>0.114368</td>\n",
       "      <td>-0.265333</td>\n",
       "      <td>0.153347</td>\n",
       "      <td>0.255005</td>\n",
       "      <td>0.109498</td>\n",
       "      <td>1.000000</td>\n",
       "      <td>0.255648</td>\n",
       "    </tr>\n",
       "    <tr>\n",
       "      <th>Thallium</th>\n",
       "      <td>0.106100</td>\n",
       "      <td>0.391046</td>\n",
       "      <td>0.262659</td>\n",
       "      <td>0.132045</td>\n",
       "      <td>0.028836</td>\n",
       "      <td>0.049237</td>\n",
       "      <td>0.007337</td>\n",
       "      <td>-0.253397</td>\n",
       "      <td>0.321449</td>\n",
       "      <td>0.324333</td>\n",
       "      <td>0.283678</td>\n",
       "      <td>0.255648</td>\n",
       "      <td>1.000000</td>\n",
       "    </tr>\n",
       "  </tbody>\n",
       "</table>\n",
       "</div>"
      ],
      "text/plain": [
       "                              Age       Sex  Chest pain type        BP  \\\n",
       "Age                      1.000000 -0.094401         0.096920  0.273053   \n",
       "Sex                     -0.094401  1.000000         0.034636 -0.062693   \n",
       "Chest pain type          0.096920  0.034636         1.000000 -0.043196   \n",
       "BP                       0.273053 -0.062693        -0.043196  1.000000   \n",
       "Cholesterol              0.220056 -0.201647         0.090465  0.173019   \n",
       "FBS over 120             0.123458  0.042140        -0.098537  0.155681   \n",
       "EKG results              0.128171  0.039253         0.074325  0.116157   \n",
       "Max HR                  -0.402215 -0.076101        -0.317682 -0.039136   \n",
       "Exercise angina          0.098297  0.180022         0.353160  0.082793   \n",
       "ST depression            0.194234  0.097412         0.167244  0.222800   \n",
       "Slope of ST              0.159774  0.050545         0.136900  0.142472   \n",
       "Number of vessels fluro  0.356081  0.086830         0.225890  0.085697   \n",
       "Thallium                 0.106100  0.391046         0.262659  0.132045   \n",
       "\n",
       "                         Cholesterol  FBS over 120  EKG results    Max HR  \\\n",
       "Age                         0.220056      0.123458     0.128171 -0.402215   \n",
       "Sex                        -0.201647      0.042140     0.039253 -0.076101   \n",
       "Chest pain type             0.090465     -0.098537     0.074325 -0.317682   \n",
       "BP                          0.173019      0.155681     0.116157 -0.039136   \n",
       "Cholesterol                 1.000000      0.025186     0.167652 -0.018739   \n",
       "FBS over 120                0.025186      1.000000     0.053499  0.022494   \n",
       "EKG results                 0.167652      0.053499     1.000000 -0.074628   \n",
       "Max HR                     -0.018739      0.022494    -0.074628  1.000000   \n",
       "Exercise angina             0.078243     -0.004107     0.095098 -0.380719   \n",
       "ST depression               0.027709     -0.025538     0.120034 -0.349045   \n",
       "Slope of ST                -0.005755      0.044076     0.160614 -0.386847   \n",
       "Number of vessels fluro     0.126541      0.123774     0.114368 -0.265333   \n",
       "Thallium                    0.028836      0.049237     0.007337 -0.253397   \n",
       "\n",
       "                         Exercise angina  ST depression  Slope of ST  \\\n",
       "Age                             0.098297       0.194234     0.159774   \n",
       "Sex                             0.180022       0.097412     0.050545   \n",
       "Chest pain type                 0.353160       0.167244     0.136900   \n",
       "BP                              0.082793       0.222800     0.142472   \n",
       "Cholesterol                     0.078243       0.027709    -0.005755   \n",
       "FBS over 120                   -0.004107      -0.025538     0.044076   \n",
       "EKG results                     0.095098       0.120034     0.160614   \n",
       "Max HR                         -0.380719      -0.349045    -0.386847   \n",
       "Exercise angina                 1.000000       0.274672     0.255908   \n",
       "ST depression                   0.274672       1.000000     0.609712   \n",
       "Slope of ST                     0.255908       0.609712     1.000000   \n",
       "Number of vessels fluro         0.153347       0.255005     0.109498   \n",
       "Thallium                        0.321449       0.324333     0.283678   \n",
       "\n",
       "                         Number of vessels fluro  Thallium  \n",
       "Age                                     0.356081  0.106100  \n",
       "Sex                                     0.086830  0.391046  \n",
       "Chest pain type                         0.225890  0.262659  \n",
       "BP                                      0.085697  0.132045  \n",
       "Cholesterol                             0.126541  0.028836  \n",
       "FBS over 120                            0.123774  0.049237  \n",
       "EKG results                             0.114368  0.007337  \n",
       "Max HR                                 -0.265333 -0.253397  \n",
       "Exercise angina                         0.153347  0.321449  \n",
       "ST depression                           0.255005  0.324333  \n",
       "Slope of ST                             0.109498  0.283678  \n",
       "Number of vessels fluro                 1.000000  0.255648  \n",
       "Thallium                                0.255648  1.000000  "
      ]
     },
     "execution_count": 11,
     "metadata": {},
     "output_type": "execute_result"
    }
   ],
   "source": [
    "# Checking for any correlations.\n",
    "df.corr()"
   ]
  },
  {
   "cell_type": "code",
   "execution_count": 12,
   "id": "49d4b097",
   "metadata": {},
   "outputs": [
    {
     "data": {
      "text/plain": [
       "Absence     150\n",
       "Presence    120\n",
       "Name: Heart Disease, dtype: int64"
      ]
     },
     "execution_count": 12,
     "metadata": {},
     "output_type": "execute_result"
    }
   ],
   "source": [
    "df[\"Heart Disease\"].value_counts()"
   ]
  },
  {
   "cell_type": "code",
   "execution_count": 13,
   "id": "1ae684c8",
   "metadata": {},
   "outputs": [
    {
     "data": {
      "image/png": "[encoded data removed]",
      "text/plain": [
       "<Figure size 432x288 with 1 Axes>"
      ]
     },
     "metadata": {
      "needs_background": "light"
     },
     "output_type": "display_data"
    }
   ],
   "source": [
    "sns.countplot(x=\"Heart Disease\", data=df, palette=\"bwr\")\n",
    "plt.show()"
   ]
  },
  {
   "cell_type": "code",
   "execution_count": 14,
   "id": "72da1c81",
   "metadata": {},
   "outputs": [
    {
     "name": "stdout",
     "output_type": "stream",
     "text": [
      "Percentage of Patients Haven't Heart Disease: 55.56%\n",
      "Percentage of Patients Have Heart Disease: 44.44%\n"
     ]
    }
   ],
   "source": [
    "countNoDisease = len(df[df['Heart Disease'] == 'Absence'])\n",
    "countHaveDisease = len(df[df['Heart Disease'] == 'Presence'])\n",
    "print(\"Percentage of Patients Haven't Heart Disease: {:.2f}%\".format((countNoDisease / (len(df[\"Heart Disease\"]))*100)))\n",
    "print(\"Percentage of Patients Have Heart Disease: {:.2f}%\".format((countHaveDisease / (len(df[\"Heart Disease\"]))*100)))"
   ]
  },
  {
   "cell_type": "code",
   "execution_count": 15,
   "id": "79e901ba",
   "metadata": {},
   "outputs": [
    {
     "data": {
      "image/png": "[encoded data removed]",
      "text/plain": [
       "<Figure size 432x288 with 1 Axes>"
      ]
     },
     "metadata": {
      "needs_background": "light"
     },
     "output_type": "display_data"
    }
   ],
   "source": [
    "sns.countplot(x='Sex', data=df, palette=\"mako_r\")\n",
    "plt.xlabel(\"Sex (0 = female, 1= male)\")\n",
    "plt.show()"
   ]
  },
  {
   "cell_type": "code",
   "execution_count": 16,
   "id": "892a14fb",
   "metadata": {},
   "outputs": [
    {
     "name": "stdout",
     "output_type": "stream",
     "text": [
      "Percentage of Female Patients: 32.22%\n",
      "Percentage of Male Patients: 67.78%\n"
     ]
    }
   ],
   "source": [
    "countFemale = len(df[df.Sex == 0])\n",
    "countMale = len(df[df.Sex == 1])\n",
    "print(\"Percentage of Female Patients: {:.2f}%\".format((countFemale / (len(df.Sex))*100)))\n",
    "print(\"Percentage of Male Patients: {:.2f}%\".format((countMale / (len(df.Sex))*100)))"
   ]
  },
  {
   "cell_type": "code",
   "execution_count": 17,
   "id": "ec2b413a",
   "metadata": {},
   "outputs": [
    {
     "data": {
      "text/html": [
       "<div>\n",
       "<style scoped>\n",
       "    .dataframe tbody tr th:only-of-type {\n",
       "        vertical-align: middle;\n",
       "    }\n",
       "\n",
       "    .dataframe tbody tr th {\n",
       "        vertical-align: top;\n",
       "    }\n",
       "\n",
       "    .dataframe thead th {\n",
       "        text-align: right;\n",
       "    }\n",
       "</style>\n",
       "<table border=\"1\" class=\"dataframe\">\n",
       "  <thead>\n",
       "    <tr style=\"text-align: right;\">\n",
       "      <th></th>\n",
       "      <th>Age</th>\n",
       "      <th>Sex</th>\n",
       "      <th>Chest pain type</th>\n",
       "      <th>BP</th>\n",
       "      <th>Cholesterol</th>\n",
       "      <th>FBS over 120</th>\n",
       "      <th>EKG results</th>\n",
       "      <th>Max HR</th>\n",
       "      <th>Exercise angina</th>\n",
       "      <th>ST depression</th>\n",
       "      <th>Slope of ST</th>\n",
       "      <th>Number of vessels fluro</th>\n",
       "      <th>Thallium</th>\n",
       "    </tr>\n",
       "    <tr>\n",
       "      <th>Heart Disease</th>\n",
       "      <th></th>\n",
       "      <th></th>\n",
       "      <th></th>\n",
       "      <th></th>\n",
       "      <th></th>\n",
       "      <th></th>\n",
       "      <th></th>\n",
       "      <th></th>\n",
       "      <th></th>\n",
       "      <th></th>\n",
       "      <th></th>\n",
       "      <th></th>\n",
       "      <th></th>\n",
       "    </tr>\n",
       "  </thead>\n",
       "  <tbody>\n",
       "    <tr>\n",
       "      <th>Absence</th>\n",
       "      <td>52.706667</td>\n",
       "      <td>0.553333</td>\n",
       "      <td>2.820000</td>\n",
       "      <td>128.866667</td>\n",
       "      <td>244.213333</td>\n",
       "      <td>0.153333</td>\n",
       "      <td>0.860</td>\n",
       "      <td>158.333333</td>\n",
       "      <td>0.153333</td>\n",
       "      <td>0.622667</td>\n",
       "      <td>1.400000</td>\n",
       "      <td>0.286667</td>\n",
       "      <td>3.786667</td>\n",
       "    </tr>\n",
       "    <tr>\n",
       "      <th>Presence</th>\n",
       "      <td>56.591667</td>\n",
       "      <td>0.833333</td>\n",
       "      <td>3.616667</td>\n",
       "      <td>134.441667</td>\n",
       "      <td>256.466667</td>\n",
       "      <td>0.141667</td>\n",
       "      <td>1.225</td>\n",
       "      <td>138.858333</td>\n",
       "      <td>0.550000</td>\n",
       "      <td>1.584167</td>\n",
       "      <td>1.816667</td>\n",
       "      <td>1.150000</td>\n",
       "      <td>5.833333</td>\n",
       "    </tr>\n",
       "  </tbody>\n",
       "</table>\n",
       "</div>"
      ],
      "text/plain": [
       "                     Age       Sex  Chest pain type          BP  Cholesterol  \\\n",
       "Heart Disease                                                                  \n",
       "Absence        52.706667  0.553333         2.820000  128.866667   244.213333   \n",
       "Presence       56.591667  0.833333         3.616667  134.441667   256.466667   \n",
       "\n",
       "               FBS over 120  EKG results      Max HR  Exercise angina  \\\n",
       "Heart Disease                                                           \n",
       "Absence            0.153333        0.860  158.333333         0.153333   \n",
       "Presence           0.141667        1.225  138.858333         0.550000   \n",
       "\n",
       "               ST depression  Slope of ST  Number of vessels fluro  Thallium  \n",
       "Heart Disease                                                                 \n",
       "Absence             0.622667     1.400000                 0.286667  3.786667  \n",
       "Presence            1.584167     1.816667                 1.150000  5.833333  "
      ]
     },
     "execution_count": 17,
     "metadata": {},
     "output_type": "execute_result"
    }
   ],
   "source": [
    "df.groupby('Heart Disease').mean()"
   ]
  },
  {
   "cell_type": "code",
   "execution_count": 18,
   "id": "3a395f1e",
   "metadata": {},
   "outputs": [
    {
     "data": {
      "image/png": "[encoded data removed]",
      "text/plain": [
       "<Figure size 1440x432 with 1 Axes>"
      ]
     },
     "metadata": {
      "needs_background": "light"
     },
     "output_type": "display_data"
    }
   ],
   "source": [
    "pd.crosstab(df.Age,df['Heart Disease']).plot(kind=\"bar\",figsize=(20,6))\n",
    "plt.title('Heart Disease Frequency for Ages')\n",
    "plt.xlabel('Age')\n",
    "plt.ylabel('Frequency')\n",
    "plt.savefig('heartDiseaseAndAges.png')\n",
    "plt.show()"
   ]
  },
  {
   "cell_type": "code",
   "execution_count": 19,
   "id": "51747008",
   "metadata": {},
   "outputs": [
    {
     "data": {
      "image/png": "[encoded data removed]",
      "text/plain": [
       "<Figure size 1080x432 with 1 Axes>"
      ]
     },
     "metadata": {
      "needs_background": "light"
     },
     "output_type": "display_data"
    }
   ],
   "source": [
    "pd.crosstab(df.Sex,df['Heart Disease']).plot(kind=\"bar\",figsize=(15,6),color=['#1CA53B','#AA1111' ])\n",
    "plt.title('Heart Disease Frequency for Sex')\n",
    "plt.xlabel('Sex (0 = Female, 1 = Male)')\n",
    "plt.xticks(rotation=0)\n",
    "plt.legend([\"Haven't Disease\", \"Have Disease\"])\n",
    "plt.ylabel('Frequency')\n",
    "plt.show()"
   ]
  },
  {
   "cell_type": "code",
   "execution_count": 20,
   "id": "9f2c6169",
   "metadata": {},
   "outputs": [
    {
     "data": {
      "image/png": "[encoded data removed]",
      "text/plain": [
       "<Figure size 432x288 with 1 Axes>"
      ]
     },
     "metadata": {
      "needs_background": "light"
     },
     "output_type": "display_data"
    }
   ],
   "source": [
    "plt.scatter(x=df.Age[df['Heart Disease']=='Presence'], y=df['Max HR'][(df['Heart Disease']=='Presence')], c=\"red\")\n",
    "plt.scatter(x=df.Age[df['Heart Disease']=='Absence'], y=df['Max HR'][(df['Heart Disease']=='Absence')])\n",
    "plt.legend([\"Disease\", \"Not Disease\"])\n",
    "plt.xlabel(\"Age\")\n",
    "plt.ylabel(\"Maximum Heart Rate\")\n",
    "plt.show()"
   ]
  },
  {
   "cell_type": "code",
   "execution_count": 21,
   "id": "a05b74bc",
   "metadata": {},
   "outputs": [
    {
     "data": {
      "image/png": "[encoded data removed]",
      "text/plain": [
       "<Figure size 1080x432 with 1 Axes>"
      ]
     },
     "metadata": {
      "needs_background": "light"
     },
     "output_type": "display_data"
    }
   ],
   "source": [
    "pd.crosstab(df['Slope of ST'],df['Heart Disease']).plot(kind=\"bar\",figsize=(15,6),color=['#DAF7A6','#FF5733' ])\n",
    "plt.title('Heart Disease Frequency for Slope')\n",
    "plt.xlabel('The Slope of The Peak Exercise ST Segment ')\n",
    "plt.xticks(rotation = 0)\n",
    "plt.ylabel('Frequency')\n",
    "plt.show()"
   ]
  },
  {
   "cell_type": "code",
   "execution_count": 22,
   "id": "f48d0b1a",
   "metadata": {},
   "outputs": [
    {
     "data": {
      "image/png": "[encoded data removed]",
      "text/plain": [
       "<Figure size 1080x432 with 1 Axes>"
      ]
     },
     "metadata": {
      "needs_background": "light"
     },
     "output_type": "display_data"
    }
   ],
   "source": [
    "pd.crosstab(df['FBS over 120'],df['Heart Disease']).plot(kind=\"bar\",figsize=(15,6),color=['#FFC300','#581845' ])\n",
    "plt.title('Heart Disease Frequency According To FBS')\n",
    "plt.xlabel('FBS - (Fasting Blood Sugar > 120 mg/dl) (1 = true; 0 = false)')\n",
    "plt.xticks(rotation = 0)\n",
    "plt.legend([\"Haven't Disease\", \"Have Disease\"])\n",
    "plt.ylabel('Frequency of Disease or Not')\n",
    "plt.show()"
   ]
  },
  {
   "cell_type": "code",
   "execution_count": 23,
   "id": "db7e1326",
   "metadata": {},
   "outputs": [
    {
     "data": {
      "image/png": "[encoded data removed]",
      "text/plain": [
       "<Figure size 1080x432 with 1 Axes>"
      ]
     },
     "metadata": {
      "needs_background": "light"
     },
     "output_type": "display_data"
    }
   ],
   "source": [
    "pd.crosstab(df['Chest pain type'],df['Heart Disease']).plot(kind=\"bar\",figsize=(15,6),color=['#11A5AA','#AA1190' ])\n",
    "plt.title('Heart Disease Frequency According To Chest Pain Type')\n",
    "plt.xlabel('Chest Pain Type')\n",
    "plt.xticks(rotation = 0)\n",
    "plt.ylabel('Frequency of Disease or Not')\n",
    "plt.show()"
   ]
  },
  {
   "cell_type": "markdown",
   "id": "fb90174a",
   "metadata": {},
   "source": [
    "## Creating Dummy Variables"
   ]
  },
  {
   "cell_type": "markdown",
   "id": "cc8ec9f3",
   "metadata": {},
   "source": [
    "Since 'Chest pain type', 'Thallium' and 'Slope of ST' are categorical variables we'll turn them into dummy variables."
   ]
  },
  {
   "cell_type": "code",
   "execution_count": 24,
   "id": "c877e9d5",
   "metadata": {},
   "outputs": [],
   "source": [
    "a = pd.get_dummies(df['Chest pain type'], prefix = \"Chest pain type\")\n",
    "b = pd.get_dummies(df['Thallium'], prefix = \"Thallium\")\n",
    "c = pd.get_dummies(df['Slope of ST'], prefix = \"Slope of ST\")"
   ]
  },
  {
   "cell_type": "code",
   "execution_count": 25,
   "id": "9e084c6c",
   "metadata": {},
   "outputs": [
    {
     "data": {
      "text/html": [
       "<div>\n",
       "<style scoped>\n",
       "    .dataframe tbody tr th:only-of-type {\n",
       "        vertical-align: middle;\n",
       "    }\n",
       "\n",
       "    .dataframe tbody tr th {\n",
       "        vertical-align: top;\n",
       "    }\n",
       "\n",
       "    .dataframe thead th {\n",
       "        text-align: right;\n",
       "    }\n",
       "</style>\n",
       "<table border=\"1\" class=\"dataframe\">\n",
       "  <thead>\n",
       "    <tr style=\"text-align: right;\">\n",
       "      <th></th>\n",
       "      <th>Age</th>\n",
       "      <th>Sex</th>\n",
       "      <th>Chest pain type</th>\n",
       "      <th>BP</th>\n",
       "      <th>Cholesterol</th>\n",
       "      <th>FBS over 120</th>\n",
       "      <th>EKG results</th>\n",
       "      <th>Max HR</th>\n",
       "      <th>Exercise angina</th>\n",
       "      <th>ST depression</th>\n",
       "      <th>...</th>\n",
       "      <th>Chest pain type_1</th>\n",
       "      <th>Chest pain type_2</th>\n",
       "      <th>Chest pain type_3</th>\n",
       "      <th>Chest pain type_4</th>\n",
       "      <th>Thallium_3</th>\n",
       "      <th>Thallium_6</th>\n",
       "      <th>Thallium_7</th>\n",
       "      <th>Slope of ST_1</th>\n",
       "      <th>Slope of ST_2</th>\n",
       "      <th>Slope of ST_3</th>\n",
       "    </tr>\n",
       "  </thead>\n",
       "  <tbody>\n",
       "    <tr>\n",
       "      <th>0</th>\n",
       "      <td>70</td>\n",
       "      <td>1</td>\n",
       "      <td>4</td>\n",
       "      <td>130</td>\n",
       "      <td>322</td>\n",
       "      <td>0</td>\n",
       "      <td>2</td>\n",
       "      <td>109</td>\n",
       "      <td>0</td>\n",
       "      <td>2.4</td>\n",
       "      <td>...</td>\n",
       "      <td>0</td>\n",
       "      <td>0</td>\n",
       "      <td>0</td>\n",
       "      <td>1</td>\n",
       "      <td>1</td>\n",
       "      <td>0</td>\n",
       "      <td>0</td>\n",
       "      <td>0</td>\n",
       "      <td>1</td>\n",
       "      <td>0</td>\n",
       "    </tr>\n",
       "    <tr>\n",
       "      <th>1</th>\n",
       "      <td>67</td>\n",
       "      <td>0</td>\n",
       "      <td>3</td>\n",
       "      <td>115</td>\n",
       "      <td>564</td>\n",
       "      <td>0</td>\n",
       "      <td>2</td>\n",
       "      <td>160</td>\n",
       "      <td>0</td>\n",
       "      <td>1.6</td>\n",
       "      <td>...</td>\n",
       "      <td>0</td>\n",
       "      <td>0</td>\n",
       "      <td>1</td>\n",
       "      <td>0</td>\n",
       "      <td>0</td>\n",
       "      <td>0</td>\n",
       "      <td>1</td>\n",
       "      <td>0</td>\n",
       "      <td>1</td>\n",
       "      <td>0</td>\n",
       "    </tr>\n",
       "    <tr>\n",
       "      <th>2</th>\n",
       "      <td>57</td>\n",
       "      <td>1</td>\n",
       "      <td>2</td>\n",
       "      <td>124</td>\n",
       "      <td>261</td>\n",
       "      <td>0</td>\n",
       "      <td>0</td>\n",
       "      <td>141</td>\n",
       "      <td>0</td>\n",
       "      <td>0.3</td>\n",
       "      <td>...</td>\n",
       "      <td>0</td>\n",
       "      <td>1</td>\n",
       "      <td>0</td>\n",
       "      <td>0</td>\n",
       "      <td>0</td>\n",
       "      <td>0</td>\n",
       "      <td>1</td>\n",
       "      <td>1</td>\n",
       "      <td>0</td>\n",
       "      <td>0</td>\n",
       "    </tr>\n",
       "    <tr>\n",
       "      <th>3</th>\n",
       "      <td>64</td>\n",
       "      <td>1</td>\n",
       "      <td>4</td>\n",
       "      <td>128</td>\n",
       "      <td>263</td>\n",
       "      <td>0</td>\n",
       "      <td>0</td>\n",
       "      <td>105</td>\n",
       "      <td>1</td>\n",
       "      <td>0.2</td>\n",
       "      <td>...</td>\n",
       "      <td>0</td>\n",
       "      <td>0</td>\n",
       "      <td>0</td>\n",
       "      <td>1</td>\n",
       "      <td>0</td>\n",
       "      <td>0</td>\n",
       "      <td>1</td>\n",
       "      <td>0</td>\n",
       "      <td>1</td>\n",
       "      <td>0</td>\n",
       "    </tr>\n",
       "    <tr>\n",
       "      <th>4</th>\n",
       "      <td>74</td>\n",
       "      <td>0</td>\n",
       "      <td>2</td>\n",
       "      <td>120</td>\n",
       "      <td>269</td>\n",
       "      <td>0</td>\n",
       "      <td>2</td>\n",
       "      <td>121</td>\n",
       "      <td>1</td>\n",
       "      <td>0.2</td>\n",
       "      <td>...</td>\n",
       "      <td>0</td>\n",
       "      <td>1</td>\n",
       "      <td>0</td>\n",
       "      <td>0</td>\n",
       "      <td>1</td>\n",
       "      <td>0</td>\n",
       "      <td>0</td>\n",
       "      <td>1</td>\n",
       "      <td>0</td>\n",
       "      <td>0</td>\n",
       "    </tr>\n",
       "  </tbody>\n",
       "</table>\n",
       "<p>5 rows × 24 columns</p>\n",
       "</div>"
      ],
      "text/plain": [
       "   Age  Sex  Chest pain type   BP  Cholesterol  FBS over 120  EKG results  \\\n",
       "0   70    1                4  130          322             0            2   \n",
       "1   67    0                3  115          564             0            2   \n",
       "2   57    1                2  124          261             0            0   \n",
       "3   64    1                4  128          263             0            0   \n",
       "4   74    0                2  120          269             0            2   \n",
       "\n",
       "   Max HR  Exercise angina  ST depression  ...  Chest pain type_1  \\\n",
       "0     109                0            2.4  ...                  0   \n",
       "1     160                0            1.6  ...                  0   \n",
       "2     141                0            0.3  ...                  0   \n",
       "3     105                1            0.2  ...                  0   \n",
       "4     121                1            0.2  ...                  0   \n",
       "\n",
       "   Chest pain type_2  Chest pain type_3 Chest pain type_4  Thallium_3  \\\n",
       "0                  0                  0                 1           1   \n",
       "1                  0                  1                 0           0   \n",
       "2                  1                  0                 0           0   \n",
       "3                  0                  0                 1           0   \n",
       "4                  1                  0                 0           1   \n",
       "\n",
       "   Thallium_6  Thallium_7  Slope of ST_1  Slope of ST_2  Slope of ST_3  \n",
       "0           0           0              0              1              0  \n",
       "1           0           1              0              1              0  \n",
       "2           0           1              1              0              0  \n",
       "3           0           1              0              1              0  \n",
       "4           0           0              1              0              0  \n",
       "\n",
       "[5 rows x 24 columns]"
      ]
     },
     "execution_count": 25,
     "metadata": {},
     "output_type": "execute_result"
    }
   ],
   "source": [
    "frames = [df, a, b, c]\n",
    "df = pd.concat(frames, axis = 1)\n",
    "df.head()"
   ]
  },
  {
   "cell_type": "code",
   "execution_count": 26,
   "id": "2a76cf5b",
   "metadata": {},
   "outputs": [
    {
     "data": {
      "text/html": [
       "<div>\n",
       "<style scoped>\n",
       "    .dataframe tbody tr th:only-of-type {\n",
       "        vertical-align: middle;\n",
       "    }\n",
       "\n",
       "    .dataframe tbody tr th {\n",
       "        vertical-align: top;\n",
       "    }\n",
       "\n",
       "    .dataframe thead th {\n",
       "        text-align: right;\n",
       "    }\n",
       "</style>\n",
       "<table border=\"1\" class=\"dataframe\">\n",
       "  <thead>\n",
       "    <tr style=\"text-align: right;\">\n",
       "      <th></th>\n",
       "      <th>Age</th>\n",
       "      <th>Sex</th>\n",
       "      <th>BP</th>\n",
       "      <th>Cholesterol</th>\n",
       "      <th>FBS over 120</th>\n",
       "      <th>EKG results</th>\n",
       "      <th>Max HR</th>\n",
       "      <th>Exercise angina</th>\n",
       "      <th>ST depression</th>\n",
       "      <th>Number of vessels fluro</th>\n",
       "      <th>...</th>\n",
       "      <th>Chest pain type_1</th>\n",
       "      <th>Chest pain type_2</th>\n",
       "      <th>Chest pain type_3</th>\n",
       "      <th>Chest pain type_4</th>\n",
       "      <th>Thallium_3</th>\n",
       "      <th>Thallium_6</th>\n",
       "      <th>Thallium_7</th>\n",
       "      <th>Slope of ST_1</th>\n",
       "      <th>Slope of ST_2</th>\n",
       "      <th>Slope of ST_3</th>\n",
       "    </tr>\n",
       "  </thead>\n",
       "  <tbody>\n",
       "    <tr>\n",
       "      <th>0</th>\n",
       "      <td>70</td>\n",
       "      <td>1</td>\n",
       "      <td>130</td>\n",
       "      <td>322</td>\n",
       "      <td>0</td>\n",
       "      <td>2</td>\n",
       "      <td>109</td>\n",
       "      <td>0</td>\n",
       "      <td>2.4</td>\n",
       "      <td>3</td>\n",
       "      <td>...</td>\n",
       "      <td>0</td>\n",
       "      <td>0</td>\n",
       "      <td>0</td>\n",
       "      <td>1</td>\n",
       "      <td>1</td>\n",
       "      <td>0</td>\n",
       "      <td>0</td>\n",
       "      <td>0</td>\n",
       "      <td>1</td>\n",
       "      <td>0</td>\n",
       "    </tr>\n",
       "    <tr>\n",
       "      <th>1</th>\n",
       "      <td>67</td>\n",
       "      <td>0</td>\n",
       "      <td>115</td>\n",
       "      <td>564</td>\n",
       "      <td>0</td>\n",
       "      <td>2</td>\n",
       "      <td>160</td>\n",
       "      <td>0</td>\n",
       "      <td>1.6</td>\n",
       "      <td>0</td>\n",
       "      <td>...</td>\n",
       "      <td>0</td>\n",
       "      <td>0</td>\n",
       "      <td>1</td>\n",
       "      <td>0</td>\n",
       "      <td>0</td>\n",
       "      <td>0</td>\n",
       "      <td>1</td>\n",
       "      <td>0</td>\n",
       "      <td>1</td>\n",
       "      <td>0</td>\n",
       "    </tr>\n",
       "    <tr>\n",
       "      <th>2</th>\n",
       "      <td>57</td>\n",
       "      <td>1</td>\n",
       "      <td>124</td>\n",
       "      <td>261</td>\n",
       "      <td>0</td>\n",
       "      <td>0</td>\n",
       "      <td>141</td>\n",
       "      <td>0</td>\n",
       "      <td>0.3</td>\n",
       "      <td>0</td>\n",
       "      <td>...</td>\n",
       "      <td>0</td>\n",
       "      <td>1</td>\n",
       "      <td>0</td>\n",
       "      <td>0</td>\n",
       "      <td>0</td>\n",
       "      <td>0</td>\n",
       "      <td>1</td>\n",
       "      <td>1</td>\n",
       "      <td>0</td>\n",
       "      <td>0</td>\n",
       "    </tr>\n",
       "    <tr>\n",
       "      <th>3</th>\n",
       "      <td>64</td>\n",
       "      <td>1</td>\n",
       "      <td>128</td>\n",
       "      <td>263</td>\n",
       "      <td>0</td>\n",
       "      <td>0</td>\n",
       "      <td>105</td>\n",
       "      <td>1</td>\n",
       "      <td>0.2</td>\n",
       "      <td>1</td>\n",
       "      <td>...</td>\n",
       "      <td>0</td>\n",
       "      <td>0</td>\n",
       "      <td>0</td>\n",
       "      <td>1</td>\n",
       "      <td>0</td>\n",
       "      <td>0</td>\n",
       "      <td>1</td>\n",
       "      <td>0</td>\n",
       "      <td>1</td>\n",
       "      <td>0</td>\n",
       "    </tr>\n",
       "    <tr>\n",
       "      <th>4</th>\n",
       "      <td>74</td>\n",
       "      <td>0</td>\n",
       "      <td>120</td>\n",
       "      <td>269</td>\n",
       "      <td>0</td>\n",
       "      <td>2</td>\n",
       "      <td>121</td>\n",
       "      <td>1</td>\n",
       "      <td>0.2</td>\n",
       "      <td>1</td>\n",
       "      <td>...</td>\n",
       "      <td>0</td>\n",
       "      <td>1</td>\n",
       "      <td>0</td>\n",
       "      <td>0</td>\n",
       "      <td>1</td>\n",
       "      <td>0</td>\n",
       "      <td>0</td>\n",
       "      <td>1</td>\n",
       "      <td>0</td>\n",
       "      <td>0</td>\n",
       "    </tr>\n",
       "  </tbody>\n",
       "</table>\n",
       "<p>5 rows × 21 columns</p>\n",
       "</div>"
      ],
      "text/plain": [
       "   Age  Sex   BP  Cholesterol  FBS over 120  EKG results  Max HR  \\\n",
       "0   70    1  130          322             0            2     109   \n",
       "1   67    0  115          564             0            2     160   \n",
       "2   57    1  124          261             0            0     141   \n",
       "3   64    1  128          263             0            0     105   \n",
       "4   74    0  120          269             0            2     121   \n",
       "\n",
       "   Exercise angina  ST depression  Number of vessels fluro  ...  \\\n",
       "0                0            2.4                        3  ...   \n",
       "1                0            1.6                        0  ...   \n",
       "2                0            0.3                        0  ...   \n",
       "3                1            0.2                        1  ...   \n",
       "4                1            0.2                        1  ...   \n",
       "\n",
       "  Chest pain type_1  Chest pain type_2  Chest pain type_3  Chest pain type_4  \\\n",
       "0                 0                  0                  0                  1   \n",
       "1                 0                  0                  1                  0   \n",
       "2                 0                  1                  0                  0   \n",
       "3                 0                  0                  0                  1   \n",
       "4                 0                  1                  0                  0   \n",
       "\n",
       "   Thallium_3  Thallium_6  Thallium_7  Slope of ST_1  Slope of ST_2  \\\n",
       "0           1           0           0              0              1   \n",
       "1           0           0           1              0              1   \n",
       "2           0           0           1              1              0   \n",
       "3           0           0           1              0              1   \n",
       "4           1           0           0              1              0   \n",
       "\n",
       "   Slope of ST_3  \n",
       "0              0  \n",
       "1              0  \n",
       "2              0  \n",
       "3              0  \n",
       "4              0  \n",
       "\n",
       "[5 rows x 21 columns]"
      ]
     },
     "execution_count": 26,
     "metadata": {},
     "output_type": "execute_result"
    }
   ],
   "source": [
    "df = df.drop(columns = ['Chest pain type', 'Thallium', 'Slope of ST'])\n",
    "df.head()"
   ]
  },
  {
   "cell_type": "code",
   "execution_count": 27,
   "id": "6eac772b",
   "metadata": {},
   "outputs": [],
   "source": [
    "y = df['Heart Disease'].values\n",
    "x_data = df.drop(['Heart Disease'], axis = 1)"
   ]
  },
  {
   "cell_type": "code",
   "execution_count": 28,
   "id": "25c931cf",
   "metadata": {},
   "outputs": [],
   "source": [
    "# Normalize\n",
    "x = (x_data - np.min(x_data)) / (np.max(x_data) - np.min(x_data)).values"
   ]
  },
  {
   "cell_type": "markdown",
   "id": "6ec9d4dd",
   "metadata": {},
   "source": [
    "We will split our data. 80% of our data will be train data and 20% of it will be test data."
   ]
  },
  {
   "cell_type": "code",
   "execution_count": 29,
   "id": "ad63e581",
   "metadata": {},
   "outputs": [],
   "source": [
    "x_train, x_test, y_train, y_test = train_test_split(x,y,test_size = 0.2,random_state=0)"
   ]
  },
  {
   "cell_type": "code",
   "execution_count": 30,
   "id": "af365048",
   "metadata": {},
   "outputs": [],
   "source": [
    "#transpose matrices\n",
    "x_train = x_train.T\n",
    "y_train = y_train.T\n",
    "x_test = x_test.T\n",
    "y_test = y_test.T"
   ]
  },
  {
   "cell_type": "code",
   "execution_count": 31,
   "id": "67d388e1",
   "metadata": {},
   "outputs": [],
   "source": [
    "accuracies = {}"
   ]
  },
  {
   "cell_type": "markdown",
   "id": "e6d27de8",
   "metadata": {},
   "source": [
    "# K-Nearest Neighbour (KNN) Classification"
   ]
  },
  {
   "cell_type": "code",
   "execution_count": 32,
   "id": "871df1e1",
   "metadata": {},
   "outputs": [],
   "source": [
    "# KNN Model\n",
    "from sklearn.neighbors import KNeighborsClassifier\n",
    "knn = KNeighborsClassifier(n_neighbors = 2)  # n_neighbors means k"
   ]
  },
  {
   "cell_type": "code",
   "execution_count": 33,
   "id": "da9ba3e1",
   "metadata": {},
   "outputs": [
    {
     "name": "stdout",
     "output_type": "stream",
     "text": [
      "2 NN Score: 72.22%\n"
     ]
    }
   ],
   "source": [
    "# We will split our data. 80% of our data will be train data and 20% of it will be test data.\n",
    "x_train, x_test, y_train, y_test = train_test_split(x,y,test_size = 0.2,random_state=0)\n",
    "knn.fit(x_train, y_train)\n",
    "prediction = knn.predict(x_test)\n",
    "\n",
    "print(\"{} NN Score: {:.2f}%\".format(2, knn.score(x_test, y_test)*100))"
   ]
  },
  {
   "cell_type": "code",
   "execution_count": 34,
   "id": "ff9ffd2d",
   "metadata": {},
   "outputs": [
    {
     "data": {
      "image/png": "[encoded data removed]",
      "text/plain": [
       "<Figure size 432x288 with 1 Axes>"
      ]
     },
     "metadata": {
      "needs_background": "light"
     },
     "output_type": "display_data"
    },
    {
     "name": "stdout",
     "output_type": "stream",
     "text": [
      "Maximum KNN Score is 79.63%\n"
     ]
    }
   ],
   "source": [
    "# try ro find best k value\n",
    "scoreList = []\n",
    "for i in range(1,20):\n",
    "    knn2 = KNeighborsClassifier(n_neighbors = i)  # n_neighbors means k\n",
    "    knn2.fit(x_train, y_train)\n",
    "    scoreList.append(knn2.score(x_test, y_test))\n",
    "    \n",
    "plt.plot(range(1,20), scoreList)\n",
    "plt.xticks(np.arange(1,20,1))\n",
    "plt.xlabel(\"K value\")\n",
    "plt.ylabel(\"Score\")\n",
    "plt.show()\n",
    "\n",
    "acc = max(scoreList)*100\n",
    "accuracies['KNN'] = acc\n",
    "print(\"Maximum KNN Score is {:.2f}%\".format(acc))"
   ]
  },
  {
   "cell_type": "markdown",
   "id": "7e9c441b",
   "metadata": {},
   "source": [
    "As you can see above if we define k as 5-6-7-8-15-16-- we will reach maximum score.\n",
    "\n",
    "KNN Model's Accuracy is 79.63%"
   ]
  },
  {
   "cell_type": "markdown",
   "id": "b98df07e",
   "metadata": {},
   "source": [
    "# Naive Bayes Algorithm"
   ]
  },
  {
   "cell_type": "code",
   "execution_count": 35,
   "id": "3d6522d5",
   "metadata": {},
   "outputs": [
    {
     "name": "stdout",
     "output_type": "stream",
     "text": [
      "Accuracy of Naive Bayes: 68.52%\n"
     ]
    }
   ],
   "source": [
    "from sklearn.naive_bayes import GaussianNB\n",
    "nb = GaussianNB()\n",
    "nb.fit(x_train, y_train)\n",
    "\n",
    "acc = nb.score(x_test,y_test)*100\n",
    "accuracies['Naive Bayes'] = acc\n",
    "print(\"Accuracy of Naive Bayes: {:.2f}%\".format(acc))"
   ]
  },
  {
   "cell_type": "markdown",
   "id": "17374826",
   "metadata": {},
   "source": [
    "Accuracy of Naive Bayes: 68.52%"
   ]
  },
  {
   "cell_type": "markdown",
   "id": "e5011f56",
   "metadata": {},
   "source": [
    "# Decision Tree Algorithm"
   ]
  },
  {
   "cell_type": "code",
   "execution_count": 36,
   "id": "d12eb234",
   "metadata": {},
   "outputs": [
    {
     "name": "stdout",
     "output_type": "stream",
     "text": [
      "Decision Tree Test Accuracy 81.48%\n"
     ]
    }
   ],
   "source": [
    "from sklearn.tree import DecisionTreeClassifier\n",
    "dtc = DecisionTreeClassifier()\n",
    "dtc.fit(x_train, y_train)\n",
    "\n",
    "acc = dtc.score(x_test, y_test)*100\n",
    "accuracies['Decision Tree'] = acc\n",
    "print(\"Decision Tree Test Accuracy {:.2f}%\".format(acc))"
   ]
  },
  {
   "cell_type": "markdown",
   "id": "97248e1b",
   "metadata": {},
   "source": [
    "## Comparing Models"
   ]
  },
  {
   "cell_type": "code",
   "execution_count": 37,
   "id": "127327e6",
   "metadata": {},
   "outputs": [
    {
     "data": {
      "image/png": "[encoded data removed]",
      "text/plain": [
       "<Figure size 1152x360 with 1 Axes>"
      ]
     },
     "metadata": {},
     "output_type": "display_data"
    }
   ],
   "source": [
    "colors = [\"purple\", \"green\", \"orange\", \"magenta\",\"#CFC60E\",\"#0FBBAE\"]\n",
    "\n",
    "sns.set_style(\"whitegrid\")\n",
    "plt.figure(figsize=(16,5))\n",
    "plt.yticks(np.arange(0,100,10))\n",
    "plt.ylabel(\"Accuracy %\")\n",
    "plt.xlabel(\"Algorithms\")\n",
    "sns.barplot(x=list(accuracies.keys()), y=list(accuracies.values()), palette=colors)\n",
    "plt.show()"
   ]
  },
  {
   "cell_type": "markdown",
   "id": "b90fc20e",
   "metadata": {},
   "source": [
    "Our models work fine but best of them is Decision Tree with 81.48% of accuracy. Let's look their confusion matrixes."
   ]
  },
  {
   "cell_type": "markdown",
   "id": "408feeb6",
   "metadata": {},
   "source": [
    "# Confusion Matrix"
   ]
  },
  {
   "cell_type": "code",
   "execution_count": 38,
   "id": "79b48dad",
   "metadata": {},
   "outputs": [],
   "source": [
    "# Predicted values\n",
    "knn3 = KNeighborsClassifier(n_neighbors = 3)\n",
    "knn3.fit(x_train, y_train)\n",
    "y_head_knn = knn3.predict(x_test)\n",
    "y_head_nb = nb.predict(x_test)\n",
    "y_head_dtc = dtc.predict(x_test)"
   ]
  },
  {
   "cell_type": "code",
   "execution_count": 39,
   "id": "8c475675",
   "metadata": {},
   "outputs": [],
   "source": [
    "from sklearn.metrics import confusion_matrix,classification_report\n",
    "\n",
    "cm_knn = confusion_matrix(y_test,y_head_knn)\n",
    "cm_nb = confusion_matrix(y_test,y_head_nb)\n",
    "cm_dtc = confusion_matrix(y_test,y_head_dtc)"
   ]
  },
  {
   "cell_type": "code",
   "execution_count": 40,
   "id": "948782ff",
   "metadata": {},
   "outputs": [
    {
     "data": {
      "image/png": "[encoded data removed]",
      "text/plain": [
       "<Figure size 1728x864 with 3 Axes>"
      ]
     },
     "metadata": {},
     "output_type": "display_data"
    }
   ],
   "source": [
    "plt.figure(figsize=(24,12))\n",
    "\n",
    "plt.suptitle(\"Confusion Matrixes\",fontsize=24)\n",
    "plt.subplots_adjust(wspace = 0.4, hspace= 0.4)\n",
    "\n",
    "plt.subplot(2,3,2)\n",
    "plt.title(\"K Nearest Neighbors Confusion Matrix\")\n",
    "sns.heatmap(cm_knn,annot=True,cmap=\"Blues\",fmt=\"d\",cbar=False, annot_kws={\"size\": 24})\n",
    "\n",
    "plt.subplot(2,3,4)\n",
    "plt.title(\"Naive Bayes Confusion Matrix\")\n",
    "sns.heatmap(cm_nb,annot=True,cmap=\"Blues\",fmt=\"d\",cbar=False, annot_kws={\"size\": 24})\n",
    "\n",
    "plt.subplot(2,3,5)\n",
    "plt.title(\"Decision Tree Classifier Confusion Matrix\")\n",
    "sns.heatmap(cm_dtc,annot=True,cmap=\"Blues\",fmt=\"d\",cbar=False, annot_kws={\"size\": 24})\n",
    "\n",
    "plt.show()\n"
   ]
  },
  {
   "cell_type": "markdown",
   "id": "3ef566b1",
   "metadata": {},
   "source": [
    "### For K-Nearest Neighbour (KNN) Classification"
   ]
  },
  {
   "cell_type": "code",
   "execution_count": 41,
   "id": "6a0b0576",
   "metadata": {},
   "outputs": [
    {
     "name": "stdout",
     "output_type": "stream",
     "text": [
      "              precision    recall  f1-score   support\n",
      "\n",
      "     Absence       0.79      0.73      0.76        30\n",
      "    Presence       0.69      0.75      0.72        24\n",
      "\n",
      "    accuracy                           0.74        54\n",
      "   macro avg       0.74      0.74      0.74        54\n",
      "weighted avg       0.74      0.74      0.74        54\n",
      "\n"
     ]
    }
   ],
   "source": [
    "print(classification_report(y_test,y_head_knn))"
   ]
  },
  {
   "cell_type": "markdown",
   "id": "349596b1",
   "metadata": {},
   "source": [
    "### For Naive Bayes Algorithm"
   ]
  },
  {
   "cell_type": "code",
   "execution_count": 42,
   "id": "c768f1a6",
   "metadata": {},
   "outputs": [
    {
     "name": "stdout",
     "output_type": "stream",
     "text": [
      "              precision    recall  f1-score   support\n",
      "\n",
      "     Absence       0.74      0.67      0.70        30\n",
      "    Presence       0.63      0.71      0.67        24\n",
      "\n",
      "    accuracy                           0.69        54\n",
      "   macro avg       0.69      0.69      0.68        54\n",
      "weighted avg       0.69      0.69      0.69        54\n",
      "\n"
     ]
    }
   ],
   "source": [
    "print(classification_report(y_test,y_head_nb))"
   ]
  },
  {
   "cell_type": "markdown",
   "id": "6f39eadb",
   "metadata": {},
   "source": [
    "### For Decision Tree Algorithm"
   ]
  },
  {
   "cell_type": "code",
   "execution_count": 43,
   "id": "5e1f741b",
   "metadata": {},
   "outputs": [
    {
     "name": "stdout",
     "output_type": "stream",
     "text": [
      "              precision    recall  f1-score   support\n",
      "\n",
      "     Absence       0.83      0.83      0.83        30\n",
      "    Presence       0.79      0.79      0.79        24\n",
      "\n",
      "    accuracy                           0.81        54\n",
      "   macro avg       0.81      0.81      0.81        54\n",
      "weighted avg       0.81      0.81      0.81        54\n",
      "\n"
     ]
    }
   ],
   "source": [
    "print(classification_report(y_test,y_head_dtc))"
   ]
  },
  {
   "cell_type": "code",
   "execution_count": null,
   "id": "a640d659",
   "metadata": {},
   "outputs": [],
   "source": []
  }
 ],
 "metadata": {
  "kernelspec": {
   "display_name": "Python 3 (ipykernel)",
   "language": "python",
   "name": "python3"
  },
  "language_info": {
   "codemirror_mode": {
    "name": "ipython",
    "version": 3
   },
   "file_extension": ".py",
   "mimetype": "text/x-python",
   "name": "python",
   "nbconvert_exporter": "python",
   "pygments_lexer": "ipython3",
   "version": "3.8.10"
  }
 },
 "nbformat": 4,
 "nbformat_minor": 5
}
